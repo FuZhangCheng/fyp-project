{
 "cells": [
  {
   "cell_type": "markdown",
   "id": "89d7b284",
   "metadata": {},
   "source": [
    "# Import Libraries"
   ]
  },
  {
   "cell_type": "markdown",
   "id": "3a407377",
   "metadata": {},
   "source": [
    "- `Data Manipulation`: **pandas**, **numpy**\n",
    "- `Data Visualisation`: **matplotlib**, **seaborn**, **bokeh**\n",
    "- `Machine Learning`: **sklearn**, **pytorch**, **tensorflow**\n",
    "- `Others`: **klib**, **imblearn**, **streamlit**"
   ]
  },
  {
   "cell_type": "code",
   "execution_count": 1,
   "id": "b19e0d45",
   "metadata": {},
   "outputs": [],
   "source": [
    "import streamlit\n",
    "import pandas as pd\n",
    "import numpy as np\n",
    "import matplotlib, klib, bokeh\n",
    "import sklearn, imblearn\n",
    "from sklearn.preprocessing import StandardScaler, RobustScaler, OneHotEncoder\n",
    "from sklearn.compose import ColumnTransformer\n",
    "from sklearn.model_selection import train_test_split, cross_val_score\n",
    "from sklearn.metrics import accuracy_score, precision_score, recall_score, f1_score, roc_auc_score\n",
    "from sklearn.linear_model import LogisticRegression\n",
    "from sklearn.neighbors import KNeighborsClassifier\n",
    "from sklearn.tree import DecisionTreeClassifier\n",
    "from sklearn.naive_bayes import GaussianNB\n",
    "from sklearn.ensemble import RandomForestClassifier\n",
    "from sklearn.svm import SVC\n",
    "from sklearn.neural_network import MLPClassifier\n",
    "import pickle, json, joblib\n",
    "import torch, netron"
   ]
  },
  {
   "cell_type": "markdown",
   "id": "3ceff6d8",
   "metadata": {},
   "source": [
    "#### Streamlit\n",
    "<img src=\"https://streamlit.io/images/brand/streamlit-logo-secondary-colormark-darktext.png\" alt=\"Alternative text\" width = 300 />\n",
    "\n",
    "[Streamlit](https://streamlit.io/) is an open-source Python library that enables you to create web applications for data science and machine learning with minimal effort. With Streamlit, you can turn data scripts into shareable web apps in just a few lines of code.\n",
    "\n",
    "To get started with Streamlit, you can install it using:\n",
    "\n",
    "```bash\n",
    "pip install streamlit\n",
    "```\n",
    "\n",
    "For more detailed information and documentation, refer to the official [Streamlit documentation](https://docs.streamlit.io/)."
   ]
  },
  {
   "cell_type": "code",
   "execution_count": 2,
   "id": "eb312d78",
   "metadata": {},
   "outputs": [],
   "source": [
    "# !streamlit hello"
   ]
  },
  {
   "cell_type": "markdown",
   "id": "838b5d24",
   "metadata": {},
   "source": [
    "The `streamlit hello` command is a quick and easy way to get started with [Streamlit](https://streamlit.io/).\n",
    "\n",
    "This introduction provides step-by-step instructions on how to use the `streamlit hello` command, what to expect when running it, and additional resources for further exploration. Adjustments can be made based on your preferences or audience."
   ]
  },
  {
   "cell_type": "markdown",
   "id": "70ece93a",
   "metadata": {},
   "source": [
    "## 1. Data Description"
   ]
  },
  {
   "cell_type": "markdown",
   "id": "e66a68ff",
   "metadata": {},
   "source": [
    "The heart attack datasets were collected at Zheen hospital in Erbil, Iraq, from **January 2019 to May 2019.**\n",
    "\n",
    "Dataset Link: **https://data.mendeley.com/datasets/wmhctcrt5v/1**\n",
    "\n",
    "According to the provided information, the medical dataset **classifies** either heart attack or none."
   ]
  },
  {
   "cell_type": "code",
   "execution_count": 3,
   "id": "8e425d6d",
   "metadata": {},
   "outputs": [
    {
     "data": {
      "text/html": [
       "<div>\n",
       "<style scoped>\n",
       "    .dataframe tbody tr th:only-of-type {\n",
       "        vertical-align: middle;\n",
       "    }\n",
       "\n",
       "    .dataframe tbody tr th {\n",
       "        vertical-align: top;\n",
       "    }\n",
       "\n",
       "    .dataframe thead th {\n",
       "        text-align: right;\n",
       "    }\n",
       "</style>\n",
       "<table border=\"1\" class=\"dataframe\">\n",
       "  <thead>\n",
       "    <tr style=\"text-align: right;\">\n",
       "      <th></th>\n",
       "      <th>Age</th>\n",
       "      <th>Gender</th>\n",
       "      <th>Heart rate</th>\n",
       "      <th>Systolic blood pressure</th>\n",
       "      <th>Diastolic blood pressure</th>\n",
       "      <th>Blood sugar</th>\n",
       "      <th>CK-MB</th>\n",
       "      <th>Troponin</th>\n",
       "      <th>Result</th>\n",
       "    </tr>\n",
       "  </thead>\n",
       "  <tbody>\n",
       "    <tr>\n",
       "      <th>0</th>\n",
       "      <td>64</td>\n",
       "      <td>1</td>\n",
       "      <td>66</td>\n",
       "      <td>160</td>\n",
       "      <td>83</td>\n",
       "      <td>160.0</td>\n",
       "      <td>1.80</td>\n",
       "      <td>0.012</td>\n",
       "      <td>negative</td>\n",
       "    </tr>\n",
       "    <tr>\n",
       "      <th>1</th>\n",
       "      <td>21</td>\n",
       "      <td>1</td>\n",
       "      <td>94</td>\n",
       "      <td>98</td>\n",
       "      <td>46</td>\n",
       "      <td>296.0</td>\n",
       "      <td>6.75</td>\n",
       "      <td>1.060</td>\n",
       "      <td>positive</td>\n",
       "    </tr>\n",
       "    <tr>\n",
       "      <th>2</th>\n",
       "      <td>55</td>\n",
       "      <td>1</td>\n",
       "      <td>64</td>\n",
       "      <td>160</td>\n",
       "      <td>77</td>\n",
       "      <td>270.0</td>\n",
       "      <td>1.99</td>\n",
       "      <td>0.003</td>\n",
       "      <td>negative</td>\n",
       "    </tr>\n",
       "    <tr>\n",
       "      <th>3</th>\n",
       "      <td>64</td>\n",
       "      <td>1</td>\n",
       "      <td>70</td>\n",
       "      <td>120</td>\n",
       "      <td>55</td>\n",
       "      <td>270.0</td>\n",
       "      <td>13.87</td>\n",
       "      <td>0.122</td>\n",
       "      <td>positive</td>\n",
       "    </tr>\n",
       "    <tr>\n",
       "      <th>4</th>\n",
       "      <td>55</td>\n",
       "      <td>1</td>\n",
       "      <td>64</td>\n",
       "      <td>112</td>\n",
       "      <td>65</td>\n",
       "      <td>300.0</td>\n",
       "      <td>1.08</td>\n",
       "      <td>0.003</td>\n",
       "      <td>negative</td>\n",
       "    </tr>\n",
       "  </tbody>\n",
       "</table>\n",
       "</div>"
      ],
      "text/plain": [
       "   Age  Gender  Heart rate  Systolic blood pressure  Diastolic blood pressure  \\\n",
       "0   64       1          66                      160                        83   \n",
       "1   21       1          94                       98                        46   \n",
       "2   55       1          64                      160                        77   \n",
       "3   64       1          70                      120                        55   \n",
       "4   55       1          64                      112                        65   \n",
       "\n",
       "   Blood sugar  CK-MB  Troponin    Result  \n",
       "0        160.0   1.80     0.012  negative  \n",
       "1        296.0   6.75     1.060  positive  \n",
       "2        270.0   1.99     0.003  negative  \n",
       "3        270.0  13.87     0.122  positive  \n",
       "4        300.0   1.08     0.003  negative  "
      ]
     },
     "execution_count": 3,
     "metadata": {},
     "output_type": "execute_result"
    }
   ],
   "source": [
    "data = pd.read_csv(\"https://raw.githubusercontent.com/FuZhangCheng/fyp-project/main/dataset/Medicaldataset.csv\")\n",
    "data.head()"
   ]
  },
  {
   "cell_type": "code",
   "execution_count": 4,
   "id": "64d027f8",
   "metadata": {},
   "outputs": [
    {
     "name": "stdout",
     "output_type": "stream",
     "text": [
      "<class 'pandas.core.frame.DataFrame'>\n",
      "RangeIndex: 1319 entries, 0 to 1318\n",
      "Data columns (total 9 columns):\n",
      " #   Column                    Non-Null Count  Dtype  \n",
      "---  ------                    --------------  -----  \n",
      " 0   Age                       1319 non-null   int64  \n",
      " 1   Gender                    1319 non-null   int64  \n",
      " 2   Heart rate                1319 non-null   int64  \n",
      " 3   Systolic blood pressure   1319 non-null   int64  \n",
      " 4   Diastolic blood pressure  1319 non-null   int64  \n",
      " 5   Blood sugar               1319 non-null   float64\n",
      " 6   CK-MB                     1319 non-null   float64\n",
      " 7   Troponin                  1319 non-null   float64\n",
      " 8   Result                    1319 non-null   object \n",
      "dtypes: float64(3), int64(5), object(1)\n",
      "memory usage: 92.9+ KB\n"
     ]
    }
   ],
   "source": [
    "data.info()"
   ]
  },
  {
   "cell_type": "code",
   "execution_count": 5,
   "id": "95341b88",
   "metadata": {},
   "outputs": [
    {
     "data": {
      "text/plain": [
       "Age                         0\n",
       "Gender                      0\n",
       "Heart rate                  0\n",
       "Systolic blood pressure     0\n",
       "Diastolic blood pressure    0\n",
       "Blood sugar                 0\n",
       "CK-MB                       0\n",
       "Troponin                    0\n",
       "Result                      0\n",
       "dtype: int64"
      ]
     },
     "execution_count": 5,
     "metadata": {},
     "output_type": "execute_result"
    }
   ],
   "source": [
    "data.isnull().sum()"
   ]
  },
  {
   "cell_type": "markdown",
   "id": "a307bec7",
   "metadata": {},
   "source": [
    "There is no **null** value in the dataset."
   ]
  },
  {
   "cell_type": "code",
   "execution_count": 6,
   "id": "9e2a261d",
   "metadata": {},
   "outputs": [
    {
     "data": {
      "text/html": [
       "<div>\n",
       "<style scoped>\n",
       "    .dataframe tbody tr th:only-of-type {\n",
       "        vertical-align: middle;\n",
       "    }\n",
       "\n",
       "    .dataframe tbody tr th {\n",
       "        vertical-align: top;\n",
       "    }\n",
       "\n",
       "    .dataframe thead th {\n",
       "        text-align: right;\n",
       "    }\n",
       "</style>\n",
       "<table border=\"1\" class=\"dataframe\">\n",
       "  <thead>\n",
       "    <tr style=\"text-align: right;\">\n",
       "      <th></th>\n",
       "      <th>Age</th>\n",
       "      <th>Gender</th>\n",
       "      <th>Heart rate</th>\n",
       "      <th>Systolic blood pressure</th>\n",
       "      <th>Diastolic blood pressure</th>\n",
       "      <th>Blood sugar</th>\n",
       "      <th>CK-MB</th>\n",
       "      <th>Troponin</th>\n",
       "    </tr>\n",
       "  </thead>\n",
       "  <tbody>\n",
       "    <tr>\n",
       "      <th>count</th>\n",
       "      <td>1319.000000</td>\n",
       "      <td>1319.000000</td>\n",
       "      <td>1319.000000</td>\n",
       "      <td>1319.000000</td>\n",
       "      <td>1319.000000</td>\n",
       "      <td>1319.000000</td>\n",
       "      <td>1319.000000</td>\n",
       "      <td>1319.000000</td>\n",
       "    </tr>\n",
       "    <tr>\n",
       "      <th>mean</th>\n",
       "      <td>56.191812</td>\n",
       "      <td>0.659591</td>\n",
       "      <td>78.336619</td>\n",
       "      <td>127.170584</td>\n",
       "      <td>72.269143</td>\n",
       "      <td>146.634344</td>\n",
       "      <td>15.274306</td>\n",
       "      <td>0.360942</td>\n",
       "    </tr>\n",
       "    <tr>\n",
       "      <th>std</th>\n",
       "      <td>13.647315</td>\n",
       "      <td>0.474027</td>\n",
       "      <td>51.630270</td>\n",
       "      <td>26.122720</td>\n",
       "      <td>14.033924</td>\n",
       "      <td>74.923045</td>\n",
       "      <td>46.327083</td>\n",
       "      <td>1.154568</td>\n",
       "    </tr>\n",
       "    <tr>\n",
       "      <th>min</th>\n",
       "      <td>14.000000</td>\n",
       "      <td>0.000000</td>\n",
       "      <td>20.000000</td>\n",
       "      <td>42.000000</td>\n",
       "      <td>38.000000</td>\n",
       "      <td>35.000000</td>\n",
       "      <td>0.321000</td>\n",
       "      <td>0.001000</td>\n",
       "    </tr>\n",
       "    <tr>\n",
       "      <th>25%</th>\n",
       "      <td>47.000000</td>\n",
       "      <td>0.000000</td>\n",
       "      <td>64.000000</td>\n",
       "      <td>110.000000</td>\n",
       "      <td>62.000000</td>\n",
       "      <td>98.000000</td>\n",
       "      <td>1.655000</td>\n",
       "      <td>0.006000</td>\n",
       "    </tr>\n",
       "    <tr>\n",
       "      <th>50%</th>\n",
       "      <td>58.000000</td>\n",
       "      <td>1.000000</td>\n",
       "      <td>74.000000</td>\n",
       "      <td>124.000000</td>\n",
       "      <td>72.000000</td>\n",
       "      <td>116.000000</td>\n",
       "      <td>2.850000</td>\n",
       "      <td>0.014000</td>\n",
       "    </tr>\n",
       "    <tr>\n",
       "      <th>75%</th>\n",
       "      <td>65.000000</td>\n",
       "      <td>1.000000</td>\n",
       "      <td>85.000000</td>\n",
       "      <td>143.000000</td>\n",
       "      <td>81.000000</td>\n",
       "      <td>169.500000</td>\n",
       "      <td>5.805000</td>\n",
       "      <td>0.085500</td>\n",
       "    </tr>\n",
       "    <tr>\n",
       "      <th>max</th>\n",
       "      <td>103.000000</td>\n",
       "      <td>1.000000</td>\n",
       "      <td>1111.000000</td>\n",
       "      <td>223.000000</td>\n",
       "      <td>154.000000</td>\n",
       "      <td>541.000000</td>\n",
       "      <td>300.000000</td>\n",
       "      <td>10.300000</td>\n",
       "    </tr>\n",
       "  </tbody>\n",
       "</table>\n",
       "</div>"
      ],
      "text/plain": [
       "               Age       Gender   Heart rate  Systolic blood pressure  \\\n",
       "count  1319.000000  1319.000000  1319.000000              1319.000000   \n",
       "mean     56.191812     0.659591    78.336619               127.170584   \n",
       "std      13.647315     0.474027    51.630270                26.122720   \n",
       "min      14.000000     0.000000    20.000000                42.000000   \n",
       "25%      47.000000     0.000000    64.000000               110.000000   \n",
       "50%      58.000000     1.000000    74.000000               124.000000   \n",
       "75%      65.000000     1.000000    85.000000               143.000000   \n",
       "max     103.000000     1.000000  1111.000000               223.000000   \n",
       "\n",
       "       Diastolic blood pressure  Blood sugar        CK-MB     Troponin  \n",
       "count               1319.000000  1319.000000  1319.000000  1319.000000  \n",
       "mean                  72.269143   146.634344    15.274306     0.360942  \n",
       "std                   14.033924    74.923045    46.327083     1.154568  \n",
       "min                   38.000000    35.000000     0.321000     0.001000  \n",
       "25%                   62.000000    98.000000     1.655000     0.006000  \n",
       "50%                   72.000000   116.000000     2.850000     0.014000  \n",
       "75%                   81.000000   169.500000     5.805000     0.085500  \n",
       "max                  154.000000   541.000000   300.000000    10.300000  "
      ]
     },
     "execution_count": 6,
     "metadata": {},
     "output_type": "execute_result"
    }
   ],
   "source": [
    "data.describe()"
   ]
  },
  {
   "cell_type": "markdown",
   "id": "8d8defb8",
   "metadata": {},
   "source": [
    "## 2. Data exploration and visualization"
   ]
  },
  {
   "cell_type": "code",
   "execution_count": 7,
   "id": "4cb13332",
   "metadata": {},
   "outputs": [],
   "source": [
    "# !streamlit run streamlit_app.py"
   ]
  },
  {
   "cell_type": "markdown",
   "id": "cc17cffe",
   "metadata": {},
   "source": [
    "## 3. Data Preprocessing"
   ]
  },
  {
   "cell_type": "markdown",
   "id": "5401bb50",
   "metadata": {},
   "source": [
    "In Data Preprocessing Step:\n",
    "1. In **Step 1**, Standardize the range of numerical features\n",
    "2. In **Step 2**, Encode the categorical features by using OneHotEncoder\n",
    "2. In **Step 3**, Convert  target feature into binary form like '0' and '1' (binary classfication)\n",
    "\n",
    "After that, we perform `train-test-split` to train and test our model."
   ]
  },
  {
   "cell_type": "code",
   "execution_count": 8,
   "id": "a46544db",
   "metadata": {},
   "outputs": [],
   "source": [
    "from preprocess_data import DataPreprocessor"
   ]
  },
  {
   "cell_type": "code",
   "execution_count": 9,
   "id": "ca6a58ff",
   "metadata": {},
   "outputs": [],
   "source": [
    "preprocessor = DataPreprocessor(data=data,\n",
    "                                remove_columns=None,  # No columns to remove in this example\n",
    "                                numerical_columns=['Age', 'Heart rate', 'Systolic blood pressure', 'Diastolic blood pressure', 'Blood sugar', 'Troponin', \"CK-MB\"],\n",
    "                                categorical_columns = None)"
   ]
  },
  {
   "cell_type": "code",
   "execution_count": 10,
   "id": "13f3da0f",
   "metadata": {},
   "outputs": [
    {
     "data": {
      "text/html": [
       "<div>\n",
       "<style scoped>\n",
       "    .dataframe tbody tr th:only-of-type {\n",
       "        vertical-align: middle;\n",
       "    }\n",
       "\n",
       "    .dataframe tbody tr th {\n",
       "        vertical-align: top;\n",
       "    }\n",
       "\n",
       "    .dataframe thead th {\n",
       "        text-align: right;\n",
       "    }\n",
       "</style>\n",
       "<table border=\"1\" class=\"dataframe\">\n",
       "  <thead>\n",
       "    <tr style=\"text-align: right;\">\n",
       "      <th></th>\n",
       "      <th>0</th>\n",
       "      <th>1</th>\n",
       "      <th>2</th>\n",
       "      <th>3</th>\n",
       "      <th>4</th>\n",
       "      <th>5</th>\n",
       "      <th>6</th>\n",
       "      <th>Result</th>\n",
       "      <th>Gender</th>\n",
       "    </tr>\n",
       "  </thead>\n",
       "  <tbody>\n",
       "    <tr>\n",
       "      <th>0</th>\n",
       "      <td>0.572358</td>\n",
       "      <td>-0.239032</td>\n",
       "      <td>1.257215</td>\n",
       "      <td>0.764927</td>\n",
       "      <td>0.178459</td>\n",
       "      <td>-0.302342</td>\n",
       "      <td>-0.290962</td>\n",
       "      <td>0</td>\n",
       "      <td>1</td>\n",
       "    </tr>\n",
       "    <tr>\n",
       "      <th>1</th>\n",
       "      <td>-2.579640</td>\n",
       "      <td>0.303491</td>\n",
       "      <td>-1.117098</td>\n",
       "      <td>-1.872542</td>\n",
       "      <td>1.994344</td>\n",
       "      <td>0.605701</td>\n",
       "      <td>-0.184072</td>\n",
       "      <td>1</td>\n",
       "      <td>1</td>\n",
       "    </tr>\n",
       "    <tr>\n",
       "      <th>2</th>\n",
       "      <td>-0.087363</td>\n",
       "      <td>-0.277784</td>\n",
       "      <td>1.257215</td>\n",
       "      <td>0.337229</td>\n",
       "      <td>1.647189</td>\n",
       "      <td>-0.310140</td>\n",
       "      <td>-0.286859</td>\n",
       "      <td>0</td>\n",
       "      <td>1</td>\n",
       "    </tr>\n",
       "    <tr>\n",
       "      <th>3</th>\n",
       "      <td>0.572358</td>\n",
       "      <td>-0.161529</td>\n",
       "      <td>-0.274600</td>\n",
       "      <td>-1.230995</td>\n",
       "      <td>1.647189</td>\n",
       "      <td>-0.207032</td>\n",
       "      <td>-0.030324</td>\n",
       "      <td>1</td>\n",
       "      <td>1</td>\n",
       "    </tr>\n",
       "    <tr>\n",
       "      <th>4</th>\n",
       "      <td>-0.087363</td>\n",
       "      <td>-0.277784</td>\n",
       "      <td>-0.580963</td>\n",
       "      <td>-0.518166</td>\n",
       "      <td>2.047752</td>\n",
       "      <td>-0.310140</td>\n",
       "      <td>-0.306509</td>\n",
       "      <td>0</td>\n",
       "      <td>1</td>\n",
       "    </tr>\n",
       "    <tr>\n",
       "      <th>...</th>\n",
       "      <td>...</td>\n",
       "      <td>...</td>\n",
       "      <td>...</td>\n",
       "      <td>...</td>\n",
       "      <td>...</td>\n",
       "      <td>...</td>\n",
       "      <td>...</td>\n",
       "      <td>...</td>\n",
       "      <td>...</td>\n",
       "    </tr>\n",
       "    <tr>\n",
       "      <th>1314</th>\n",
       "      <td>-0.893688</td>\n",
       "      <td>0.303491</td>\n",
       "      <td>-0.198009</td>\n",
       "      <td>-0.375600</td>\n",
       "      <td>0.765951</td>\n",
       "      <td>-0.307541</td>\n",
       "      <td>-0.294633</td>\n",
       "      <td>0</td>\n",
       "      <td>1</td>\n",
       "    </tr>\n",
       "    <tr>\n",
       "      <th>1315</th>\n",
       "      <td>0.718963</td>\n",
       "      <td>0.109733</td>\n",
       "      <td>-0.083123</td>\n",
       "      <td>-1.230995</td>\n",
       "      <td>0.031586</td>\n",
       "      <td>-0.163710</td>\n",
       "      <td>-0.301111</td>\n",
       "      <td>1</td>\n",
       "      <td>1</td>\n",
       "    </tr>\n",
       "    <tr>\n",
       "      <th>1316</th>\n",
       "      <td>-0.820385</td>\n",
       "      <td>0.129109</td>\n",
       "      <td>1.563578</td>\n",
       "      <td>2.261869</td>\n",
       "      <td>-0.676074</td>\n",
       "      <td>3.369688</td>\n",
       "      <td>-0.303054</td>\n",
       "      <td>1</td>\n",
       "      <td>1</td>\n",
       "    </tr>\n",
       "    <tr>\n",
       "      <th>1317</th>\n",
       "      <td>-0.160665</td>\n",
       "      <td>-0.394039</td>\n",
       "      <td>-0.389486</td>\n",
       "      <td>-0.304317</td>\n",
       "      <td>3.957101</td>\n",
       "      <td>-0.001683</td>\n",
       "      <td>-0.204587</td>\n",
       "      <td>1</td>\n",
       "      <td>1</td>\n",
       "    </tr>\n",
       "    <tr>\n",
       "      <th>1318</th>\n",
       "      <td>-0.380572</td>\n",
       "      <td>0.303491</td>\n",
       "      <td>1.142329</td>\n",
       "      <td>0.479795</td>\n",
       "      <td>-0.168695</td>\n",
       "      <td>1.220883</td>\n",
       "      <td>0.769079</td>\n",
       "      <td>1</td>\n",
       "      <td>1</td>\n",
       "    </tr>\n",
       "  </tbody>\n",
       "</table>\n",
       "<p>1319 rows × 9 columns</p>\n",
       "</div>"
      ],
      "text/plain": [
       "             0         1         2         3         4         5         6  \\\n",
       "0     0.572358 -0.239032  1.257215  0.764927  0.178459 -0.302342 -0.290962   \n",
       "1    -2.579640  0.303491 -1.117098 -1.872542  1.994344  0.605701 -0.184072   \n",
       "2    -0.087363 -0.277784  1.257215  0.337229  1.647189 -0.310140 -0.286859   \n",
       "3     0.572358 -0.161529 -0.274600 -1.230995  1.647189 -0.207032 -0.030324   \n",
       "4    -0.087363 -0.277784 -0.580963 -0.518166  2.047752 -0.310140 -0.306509   \n",
       "...        ...       ...       ...       ...       ...       ...       ...   \n",
       "1314 -0.893688  0.303491 -0.198009 -0.375600  0.765951 -0.307541 -0.294633   \n",
       "1315  0.718963  0.109733 -0.083123 -1.230995  0.031586 -0.163710 -0.301111   \n",
       "1316 -0.820385  0.129109  1.563578  2.261869 -0.676074  3.369688 -0.303054   \n",
       "1317 -0.160665 -0.394039 -0.389486 -0.304317  3.957101 -0.001683 -0.204587   \n",
       "1318 -0.380572  0.303491  1.142329  0.479795 -0.168695  1.220883  0.769079   \n",
       "\n",
       "      Result  Gender  \n",
       "0          0       1  \n",
       "1          1       1  \n",
       "2          0       1  \n",
       "3          1       1  \n",
       "4          0       1  \n",
       "...      ...     ...  \n",
       "1314       0       1  \n",
       "1315       1       1  \n",
       "1316       1       1  \n",
       "1317       1       1  \n",
       "1318       1       1  \n",
       "\n",
       "[1319 rows x 9 columns]"
      ]
     },
     "execution_count": 10,
     "metadata": {},
     "output_type": "execute_result"
    }
   ],
   "source": [
    "preprocessed_data = pd.DataFrame(preprocessor.fit_transform())\n",
    "preprocessed_data[\"Result\"] = (preprocessed_data[\"Result\"] == \"positive\").astype(int)\n",
    "preprocessed_data.columns = preprocessed_data.columns.astype(str)\n",
    "preprocessed_data"
   ]
  },
  {
   "cell_type": "code",
   "execution_count": 11,
   "id": "896f555e",
   "metadata": {},
   "outputs": [
    {
     "name": "stdout",
     "output_type": "stream",
     "text": [
      "DataPreprocessor object saved to data_preprocessing/preprocessing_1.joblib\n"
     ]
    }
   ],
   "source": [
    "preprocessor.save(\"data_preprocessing/preprocessing_1.joblib\")"
   ]
  },
  {
   "cell_type": "code",
   "execution_count": 12,
   "id": "c6326209",
   "metadata": {},
   "outputs": [],
   "source": [
    "data = preprocessed_data"
   ]
  },
  {
   "cell_type": "markdown",
   "id": "4f75ef48",
   "metadata": {},
   "source": [
    "#### Train Test Split"
   ]
  },
  {
   "cell_type": "code",
   "execution_count": 13,
   "id": "eee0caac",
   "metadata": {},
   "outputs": [
    {
     "name": "stdout",
     "output_type": "stream",
     "text": [
      "After spliting into training set and test set\n",
      "X_train.shape and X_test.shape:  (1055, 8) , (264, 8)\n",
      "y_train.shape and y_test.shape:  (1055,) , (264,)\n"
     ]
    }
   ],
   "source": [
    "# X = training features, y = target features\n",
    "X = data.drop('Result', axis = 1)\n",
    "y = data['Result']\n",
    "\n",
    "X_train, X_test, y_train, y_test = train_test_split(X, y, train_size=0.8, random_state=42)\n",
    "\n",
    "print(\"After spliting into training set and test set\")\n",
    "print(\"X_train.shape and X_test.shape: \", X_train.shape, \",\", X_test.shape)\n",
    "print(\"y_train.shape and y_test.shape: \", y_train.shape, \",\", y_test.shape)"
   ]
  },
  {
   "cell_type": "markdown",
   "id": "a084df94",
   "metadata": {},
   "source": [
    "## 4. Select and Train model"
   ]
  },
  {
   "cell_type": "markdown",
   "id": "2890bc1e",
   "metadata": {},
   "source": [
    "1. Logistic Regression\n",
    "2. Support Vector Machines Classifier\n",
    "3. Nearest Neighbors Classifier\n",
    "4. Naive Bayes Classifier\n",
    "5. Decision Tree Classifier\n",
    "6. Random Forest Classifier\n",
    "7. Deep Learning Classifier (Neural Network)"
   ]
  },
  {
   "cell_type": "code",
   "execution_count": 14,
   "id": "f58304d5",
   "metadata": {},
   "outputs": [],
   "source": [
    "log_cls = LogisticRegression(random_state=2, max_iter = 2000)\n",
    "svm_cls = SVC(random_state = 13, max_iter = 2000)\n",
    "knn_cls = KNeighborsClassifier(n_neighbors = 3)\n",
    "nb_cls = GaussianNB()\n",
    "dt_cls = DecisionTreeClassifier(random_state = 15)\n",
    "rf_cls = RandomForestClassifier(random_state = 16, n_estimators = 100)\n",
    "mlp_cls = MLPClassifier(random_state=17, max_iter = 2000, alpha = 0.001, hidden_layer_sizes = (3, 3))"
   ]
  },
  {
   "cell_type": "code",
   "execution_count": 15,
   "id": "b956c1df",
   "metadata": {},
   "outputs": [],
   "source": [
    "classifier_name = [\"Logistic Regression\", \"SVM\", \"KNN\", \"NB\", \"Decision Tree\", \"Random Forest\", \"MLP\"]\n",
    "classifier_filename = [\"model/logistic.pkl\", \"model/svm.pkl\", \"model/knn.pkl\", \"model/nb.pkl\", \"model/dt.pkl\", \"model/rf.pkl\", \"model/mlp.pkl\"]\n",
    "classifier = [log_cls, svm_cls, knn_cls, nb_cls, dt_cls, rf_cls, mlp_cls]"
   ]
  },
  {
   "cell_type": "code",
   "execution_count": 16,
   "id": "6ab848ae",
   "metadata": {},
   "outputs": [],
   "source": [
    "def save_or_load_model(model, filename, action='save'):\n",
    "    if action == 'save':\n",
    "        with open(filename, 'wb') as file:\n",
    "            pickle.dump(model, file)\n",
    "        print(f\"Model saved to {filename}\")\n",
    "\n",
    "    elif action == 'load':\n",
    "        with open(filename, 'rb') as file:\n",
    "            loaded_model = pickle.load(file)\n",
    "        print(f\"Model loaded from {filename}\")\n",
    "        return loaded_model\n",
    "    else:\n",
    "        raise ValueError(\"Invalid action. Use 'save' or 'load'.\")"
   ]
  },
  {
   "cell_type": "code",
   "execution_count": 17,
   "id": "9e3dddf4",
   "metadata": {},
   "outputs": [],
   "source": [
    "def train(classifier, X, y, cls_name = None):\n",
    "    classifier.fit(X, y)\n",
    "    if cls_name is not None:\n",
    "        print(f\"{cls_name} training completed!!!\")\n",
    "    else:\n",
    "        print(f\"Classifier training completed!!!\")\n",
    "    \n",
    "    return classifier"
   ]
  },
  {
   "cell_type": "code",
   "execution_count": 18,
   "id": "70e3bbd6",
   "metadata": {},
   "outputs": [],
   "source": [
    "def train_and_save_model(classifier, X, y, filename, cls_name=None):\n",
    "    # Train the model\n",
    "    trained_model = train(classifier, X, y, cls_name)\n",
    "\n",
    "    # Save the trained model\n",
    "    save_or_load_model(trained_model, filename)\n",
    "\n",
    "    print(f\"Model trained and saved to {filename}\")\n",
    "    return trained_model"
   ]
  },
  {
   "cell_type": "code",
   "execution_count": 19,
   "id": "75ec7021",
   "metadata": {},
   "outputs": [
    {
     "name": "stdout",
     "output_type": "stream",
     "text": [
      "Logistic Regression training completed!!!\n",
      "Model saved to model/logistic.pkl\n",
      "Model trained and saved to model/logistic.pkl\n",
      "SVM training completed!!!\n",
      "Model saved to model/svm.pkl\n",
      "Model trained and saved to model/svm.pkl\n",
      "KNN training completed!!!\n",
      "Model saved to model/knn.pkl\n",
      "Model trained and saved to model/knn.pkl\n",
      "NB training completed!!!\n",
      "Model saved to model/nb.pkl\n",
      "Model trained and saved to model/nb.pkl\n",
      "Decision Tree training completed!!!\n",
      "Model saved to model/dt.pkl\n",
      "Model trained and saved to model/dt.pkl\n",
      "Random Forest training completed!!!\n",
      "Model saved to model/rf.pkl\n",
      "Model trained and saved to model/rf.pkl\n",
      "MLP training completed!!!\n",
      "Model saved to model/mlp.pkl\n",
      "Model trained and saved to model/mlp.pkl\n"
     ]
    }
   ],
   "source": [
    "trained_model_dict = dict()\n",
    "\n",
    "for a, b, c in zip(classifier, classifier_filename, classifier_name):\n",
    "    trained_model_dict[c] = train_and_save_model(a, X_train, y_train, b, cls_name=c)"
   ]
  },
  {
   "cell_type": "code",
   "execution_count": 20,
   "id": "b2776878",
   "metadata": {},
   "outputs": [],
   "source": [
    "import pandas as pd\n",
    "from sklearn.metrics import accuracy_score, precision_score, recall_score, f1_score, roc_auc_score\n",
    "\n",
    "def evaluation_table(model_dict, X, y):\n",
    "    # Create an empty DataFrame with column names\n",
    "    eval_df = pd.DataFrame(columns=['Model', 'Accuracy', 'Precision (True)', 'Precision (False)', 'Recall (True)', 'Recall (False)', 'F1 Score (True)', 'F1 Score (False)', 'ROC-AUC Score'])\n",
    "    \n",
    "    # Loop through the models in the dictionary\n",
    "    for model_name, model in model_dict.items():\n",
    "        y_pred = model.predict(X)\n",
    "        accuracy = accuracy_score(y, y_pred)\n",
    "        precision_true, precision_false = precision_score(y, y_pred, average=None, labels=[1, 0])\n",
    "        recall_true, recall_false = recall_score(y, y_pred, average=None, labels=[1, 0])\n",
    "        f1_true, f1_false = f1_score(y, y_pred, average=None, labels=[1, 0])\n",
    "        roc_auc = roc_auc_score(y, y_pred)\n",
    "\n",
    "        # Create a temporary DataFrame for the current model's evaluation\n",
    "        temp_df = pd.DataFrame([{\n",
    "            'Model': str(model_name),\n",
    "            'Accuracy': accuracy,\n",
    "            'Precision (True)': precision_true,\n",
    "            'Precision (False)': precision_false,\n",
    "            'Recall (True)': recall_true,\n",
    "            'Recall (False)': recall_false,\n",
    "            'F1 Score (True)': f1_true,\n",
    "            'F1 Score (False)': f1_false,\n",
    "            'ROC-AUC Score': roc_auc\n",
    "        }])\n",
    "\n",
    "        # Concatenate the temp_df with eval_df\n",
    "        eval_df = pd.concat([eval_df, temp_df], ignore_index=True)\n",
    "\n",
    "        print(str(model_name) + \"  ... Completed\")\n",
    "\n",
    "    # Format the numeric columns as percentages\n",
    "    eval_df = eval_df.style.format({\n",
    "        'Accuracy': \"{:.3%}\",\n",
    "        'Precision (True)': \"{:.3%}\",\n",
    "        'Precision (False)': \"{:.3%}\",\n",
    "        'Recall (True)': \"{:.3%}\",\n",
    "        'Recall (False)': \"{:.3%}\",\n",
    "        'F1 Score (True)': \"{:.3%}\",\n",
    "        'F1 Score (False)': \"{:.3%}\",\n",
    "        'ROC-AUC Score': \"{:.3%}\"\n",
    "    })\n",
    "        \n",
    "    return eval_df"
   ]
  },
  {
   "cell_type": "code",
   "execution_count": 21,
   "id": "53d9d7ee",
   "metadata": {},
   "outputs": [
    {
     "name": "stdout",
     "output_type": "stream",
     "text": [
      "Logistic Regression  ... Completed\n",
      "SVM  ... Completed\n",
      "KNN  ... Completed\n",
      "NB  ... Completed\n",
      "Decision Tree  ... Completed\n",
      "Random Forest  ... Completed\n",
      "MLP  ... Completed\n"
     ]
    },
    {
     "name": "stderr",
     "output_type": "stream",
     "text": [
      "C:\\Users\\WINx11\\AppData\\Local\\Temp\\ipykernel_23584\\1910297756.py:31: FutureWarning: The behavior of DataFrame concatenation with empty or all-NA entries is deprecated. In a future version, this will no longer exclude empty or all-NA columns when determining the result dtypes. To retain the old behavior, exclude the relevant entries before the concat operation.\n",
      "  eval_df = pd.concat([eval_df, temp_df], ignore_index=True)\n"
     ]
    },
    {
     "data": {
      "text/html": [
       "<style type=\"text/css\">\n",
       "</style>\n",
       "<table id=\"T_f3809\">\n",
       "  <thead>\n",
       "    <tr>\n",
       "      <th class=\"blank level0\" >&nbsp;</th>\n",
       "      <th id=\"T_f3809_level0_col0\" class=\"col_heading level0 col0\" >Model</th>\n",
       "      <th id=\"T_f3809_level0_col1\" class=\"col_heading level0 col1\" >Accuracy</th>\n",
       "      <th id=\"T_f3809_level0_col2\" class=\"col_heading level0 col2\" >Precision (True)</th>\n",
       "      <th id=\"T_f3809_level0_col3\" class=\"col_heading level0 col3\" >Precision (False)</th>\n",
       "      <th id=\"T_f3809_level0_col4\" class=\"col_heading level0 col4\" >Recall (True)</th>\n",
       "      <th id=\"T_f3809_level0_col5\" class=\"col_heading level0 col5\" >Recall (False)</th>\n",
       "      <th id=\"T_f3809_level0_col6\" class=\"col_heading level0 col6\" >F1 Score (True)</th>\n",
       "      <th id=\"T_f3809_level0_col7\" class=\"col_heading level0 col7\" >F1 Score (False)</th>\n",
       "      <th id=\"T_f3809_level0_col8\" class=\"col_heading level0 col8\" >ROC-AUC Score</th>\n",
       "    </tr>\n",
       "  </thead>\n",
       "  <tbody>\n",
       "    <tr>\n",
       "      <th id=\"T_f3809_level0_row0\" class=\"row_heading level0 row0\" >0</th>\n",
       "      <td id=\"T_f3809_row0_col0\" class=\"data row0 col0\" >Logistic Regression</td>\n",
       "      <td id=\"T_f3809_row0_col1\" class=\"data row0 col1\" >81.137%</td>\n",
       "      <td id=\"T_f3809_row0_col2\" class=\"data row0 col2\" >86.364%</td>\n",
       "      <td id=\"T_f3809_row0_col3\" class=\"data row0 col3\" >73.804%</td>\n",
       "      <td id=\"T_f3809_row0_col4\" class=\"data row0 col4\" >82.226%</td>\n",
       "      <td id=\"T_f3809_row0_col5\" class=\"data row0 col5\" >79.412%</td>\n",
       "      <td id=\"T_f3809_row0_col6\" class=\"data row0 col6\" >84.244%</td>\n",
       "      <td id=\"T_f3809_row0_col7\" class=\"data row0 col7\" >76.505%</td>\n",
       "      <td id=\"T_f3809_row0_col8\" class=\"data row0 col8\" >80.819%</td>\n",
       "    </tr>\n",
       "    <tr>\n",
       "      <th id=\"T_f3809_level0_row1\" class=\"row_heading level0 row1\" >1</th>\n",
       "      <td id=\"T_f3809_row1_col0\" class=\"data row1 col0\" >SVM</td>\n",
       "      <td id=\"T_f3809_row1_col1\" class=\"data row1 col1\" >77.725%</td>\n",
       "      <td id=\"T_f3809_row1_col2\" class=\"data row1 col2\" >82.087%</td>\n",
       "      <td id=\"T_f3809_row1_col3\" class=\"data row1 col3\" >70.944%</td>\n",
       "      <td id=\"T_f3809_row1_col4\" class=\"data row1 col4\" >81.453%</td>\n",
       "      <td id=\"T_f3809_row1_col5\" class=\"data row1 col5\" >71.814%</td>\n",
       "      <td id=\"T_f3809_row1_col6\" class=\"data row1 col6\" >81.769%</td>\n",
       "      <td id=\"T_f3809_row1_col7\" class=\"data row1 col7\" >71.376%</td>\n",
       "      <td id=\"T_f3809_row1_col8\" class=\"data row1 col8\" >76.633%</td>\n",
       "    </tr>\n",
       "    <tr>\n",
       "      <th id=\"T_f3809_level0_row2\" class=\"row_heading level0 row2\" >2</th>\n",
       "      <td id=\"T_f3809_row2_col0\" class=\"data row2 col0\" >KNN</td>\n",
       "      <td id=\"T_f3809_row2_col1\" class=\"data row2 col1\" >83.412%</td>\n",
       "      <td id=\"T_f3809_row2_col2\" class=\"data row2 col2\" >87.700%</td>\n",
       "      <td id=\"T_f3809_row2_col3\" class=\"data row2 col3\" >77.156%</td>\n",
       "      <td id=\"T_f3809_row2_col4\" class=\"data row2 col4\" >84.853%</td>\n",
       "      <td id=\"T_f3809_row2_col5\" class=\"data row2 col5\" >81.127%</td>\n",
       "      <td id=\"T_f3809_row2_col6\" class=\"data row2 col6\" >86.253%</td>\n",
       "      <td id=\"T_f3809_row2_col7\" class=\"data row2 col7\" >79.092%</td>\n",
       "      <td id=\"T_f3809_row2_col8\" class=\"data row2 col8\" >82.990%</td>\n",
       "    </tr>\n",
       "    <tr>\n",
       "      <th id=\"T_f3809_level0_row3\" class=\"row_heading level0 row3\" >3</th>\n",
       "      <td id=\"T_f3809_row3_col0\" class=\"data row3 col0\" >NB</td>\n",
       "      <td id=\"T_f3809_row3_col1\" class=\"data row3 col1\" >78.957%</td>\n",
       "      <td id=\"T_f3809_row3_col2\" class=\"data row3 col2\" >99.766%</td>\n",
       "      <td id=\"T_f3809_row3_col3\" class=\"data row3 col3\" >64.809%</td>\n",
       "      <td id=\"T_f3809_row3_col4\" class=\"data row3 col4\" >65.842%</td>\n",
       "      <td id=\"T_f3809_row3_col5\" class=\"data row3 col5\" >99.755%</td>\n",
       "      <td id=\"T_f3809_row3_col6\" class=\"data row3 col6\" >79.330%</td>\n",
       "      <td id=\"T_f3809_row3_col7\" class=\"data row3 col7\" >78.571%</td>\n",
       "      <td id=\"T_f3809_row3_col8\" class=\"data row3 col8\" >82.799%</td>\n",
       "    </tr>\n",
       "    <tr>\n",
       "      <th id=\"T_f3809_level0_row4\" class=\"row_heading level0 row4\" >4</th>\n",
       "      <td id=\"T_f3809_row4_col0\" class=\"data row4 col0\" >Decision Tree</td>\n",
       "      <td id=\"T_f3809_row4_col1\" class=\"data row4 col1\" >100.000%</td>\n",
       "      <td id=\"T_f3809_row4_col2\" class=\"data row4 col2\" >100.000%</td>\n",
       "      <td id=\"T_f3809_row4_col3\" class=\"data row4 col3\" >100.000%</td>\n",
       "      <td id=\"T_f3809_row4_col4\" class=\"data row4 col4\" >100.000%</td>\n",
       "      <td id=\"T_f3809_row4_col5\" class=\"data row4 col5\" >100.000%</td>\n",
       "      <td id=\"T_f3809_row4_col6\" class=\"data row4 col6\" >100.000%</td>\n",
       "      <td id=\"T_f3809_row4_col7\" class=\"data row4 col7\" >100.000%</td>\n",
       "      <td id=\"T_f3809_row4_col8\" class=\"data row4 col8\" >100.000%</td>\n",
       "    </tr>\n",
       "    <tr>\n",
       "      <th id=\"T_f3809_level0_row5\" class=\"row_heading level0 row5\" >5</th>\n",
       "      <td id=\"T_f3809_row5_col0\" class=\"data row5 col0\" >Random Forest</td>\n",
       "      <td id=\"T_f3809_row5_col1\" class=\"data row5 col1\" >100.000%</td>\n",
       "      <td id=\"T_f3809_row5_col2\" class=\"data row5 col2\" >100.000%</td>\n",
       "      <td id=\"T_f3809_row5_col3\" class=\"data row5 col3\" >100.000%</td>\n",
       "      <td id=\"T_f3809_row5_col4\" class=\"data row5 col4\" >100.000%</td>\n",
       "      <td id=\"T_f3809_row5_col5\" class=\"data row5 col5\" >100.000%</td>\n",
       "      <td id=\"T_f3809_row5_col6\" class=\"data row5 col6\" >100.000%</td>\n",
       "      <td id=\"T_f3809_row5_col7\" class=\"data row5 col7\" >100.000%</td>\n",
       "      <td id=\"T_f3809_row5_col8\" class=\"data row5 col8\" >100.000%</td>\n",
       "    </tr>\n",
       "    <tr>\n",
       "      <th id=\"T_f3809_level0_row6\" class=\"row_heading level0 row6\" >6</th>\n",
       "      <td id=\"T_f3809_row6_col0\" class=\"data row6 col0\" >MLP</td>\n",
       "      <td id=\"T_f3809_row6_col1\" class=\"data row6 col1\" >92.417%</td>\n",
       "      <td id=\"T_f3809_row6_col2\" class=\"data row6 col2\" >96.705%</td>\n",
       "      <td id=\"T_f3809_row6_col3\" class=\"data row6 col3\" >86.607%</td>\n",
       "      <td id=\"T_f3809_row6_col4\" class=\"data row6 col4\" >90.726%</td>\n",
       "      <td id=\"T_f3809_row6_col5\" class=\"data row6 col5\" >95.098%</td>\n",
       "      <td id=\"T_f3809_row6_col6\" class=\"data row6 col6\" >93.620%</td>\n",
       "      <td id=\"T_f3809_row6_col7\" class=\"data row6 col7\" >90.654%</td>\n",
       "      <td id=\"T_f3809_row6_col8\" class=\"data row6 col8\" >92.912%</td>\n",
       "    </tr>\n",
       "  </tbody>\n",
       "</table>\n"
      ],
      "text/plain": [
       "<pandas.io.formats.style.Styler at 0x12ad7381030>"
      ]
     },
     "execution_count": 21,
     "metadata": {},
     "output_type": "execute_result"
    }
   ],
   "source": [
    "train_evaluation = evaluation_table(trained_model_dict, X_train, y_train)\n",
    "train_evaluation.data.to_csv('evaluation/train_evaluation.csv', index=False, encoding='utf-8')\n",
    "train_evaluation"
   ]
  },
  {
   "cell_type": "code",
   "execution_count": 22,
   "id": "c4f6affa",
   "metadata": {},
   "outputs": [
    {
     "name": "stdout",
     "output_type": "stream",
     "text": [
      "Logistic Regression  ... Completed\n",
      "SVM  ... Completed\n",
      "KNN  ... Completed\n",
      "NB  ... Completed\n",
      "Decision Tree  ... Completed\n",
      "Random Forest  ... Completed\n",
      "MLP  ... Completed\n"
     ]
    },
    {
     "name": "stderr",
     "output_type": "stream",
     "text": [
      "C:\\Users\\WINx11\\AppData\\Local\\Temp\\ipykernel_23584\\1910297756.py:31: FutureWarning: The behavior of DataFrame concatenation with empty or all-NA entries is deprecated. In a future version, this will no longer exclude empty or all-NA columns when determining the result dtypes. To retain the old behavior, exclude the relevant entries before the concat operation.\n",
      "  eval_df = pd.concat([eval_df, temp_df], ignore_index=True)\n"
     ]
    },
    {
     "data": {
      "text/html": [
       "<style type=\"text/css\">\n",
       "</style>\n",
       "<table id=\"T_1fac2\">\n",
       "  <thead>\n",
       "    <tr>\n",
       "      <th class=\"blank level0\" >&nbsp;</th>\n",
       "      <th id=\"T_1fac2_level0_col0\" class=\"col_heading level0 col0\" >Model</th>\n",
       "      <th id=\"T_1fac2_level0_col1\" class=\"col_heading level0 col1\" >Accuracy</th>\n",
       "      <th id=\"T_1fac2_level0_col2\" class=\"col_heading level0 col2\" >Precision (True)</th>\n",
       "      <th id=\"T_1fac2_level0_col3\" class=\"col_heading level0 col3\" >Precision (False)</th>\n",
       "      <th id=\"T_1fac2_level0_col4\" class=\"col_heading level0 col4\" >Recall (True)</th>\n",
       "      <th id=\"T_1fac2_level0_col5\" class=\"col_heading level0 col5\" >Recall (False)</th>\n",
       "      <th id=\"T_1fac2_level0_col6\" class=\"col_heading level0 col6\" >F1 Score (True)</th>\n",
       "      <th id=\"T_1fac2_level0_col7\" class=\"col_heading level0 col7\" >F1 Score (False)</th>\n",
       "      <th id=\"T_1fac2_level0_col8\" class=\"col_heading level0 col8\" >ROC-AUC Score</th>\n",
       "    </tr>\n",
       "  </thead>\n",
       "  <tbody>\n",
       "    <tr>\n",
       "      <th id=\"T_1fac2_level0_row0\" class=\"row_heading level0 row0\" >0</th>\n",
       "      <td id=\"T_1fac2_row0_col0\" class=\"data row0 col0\" >Logistic Regression</td>\n",
       "      <td id=\"T_1fac2_row0_col1\" class=\"data row0 col1\" >79.924%</td>\n",
       "      <td id=\"T_1fac2_row0_col2\" class=\"data row0 col2\" >81.977%</td>\n",
       "      <td id=\"T_1fac2_row0_col3\" class=\"data row0 col3\" >76.087%</td>\n",
       "      <td id=\"T_1fac2_row0_col4\" class=\"data row0 col4\" >86.503%</td>\n",
       "      <td id=\"T_1fac2_row0_col5\" class=\"data row0 col5\" >69.307%</td>\n",
       "      <td id=\"T_1fac2_row0_col6\" class=\"data row0 col6\" >84.179%</td>\n",
       "      <td id=\"T_1fac2_row0_col7\" class=\"data row0 col7\" >72.539%</td>\n",
       "      <td id=\"T_1fac2_row0_col8\" class=\"data row0 col8\" >77.905%</td>\n",
       "    </tr>\n",
       "    <tr>\n",
       "      <th id=\"T_1fac2_level0_row1\" class=\"row_heading level0 row1\" >1</th>\n",
       "      <td id=\"T_1fac2_row1_col0\" class=\"data row1 col0\" >SVM</td>\n",
       "      <td id=\"T_1fac2_row1_col1\" class=\"data row1 col1\" >73.485%</td>\n",
       "      <td id=\"T_1fac2_row1_col2\" class=\"data row1 col2\" >75.978%</td>\n",
       "      <td id=\"T_1fac2_row1_col3\" class=\"data row1 col3\" >68.235%</td>\n",
       "      <td id=\"T_1fac2_row1_col4\" class=\"data row1 col4\" >83.436%</td>\n",
       "      <td id=\"T_1fac2_row1_col5\" class=\"data row1 col5\" >57.426%</td>\n",
       "      <td id=\"T_1fac2_row1_col6\" class=\"data row1 col6\" >79.532%</td>\n",
       "      <td id=\"T_1fac2_row1_col7\" class=\"data row1 col7\" >62.366%</td>\n",
       "      <td id=\"T_1fac2_row1_col8\" class=\"data row1 col8\" >70.431%</td>\n",
       "    </tr>\n",
       "    <tr>\n",
       "      <th id=\"T_1fac2_level0_row2\" class=\"row_heading level0 row2\" >2</th>\n",
       "      <td id=\"T_1fac2_row2_col0\" class=\"data row2 col0\" >KNN</td>\n",
       "      <td id=\"T_1fac2_row2_col1\" class=\"data row2 col1\" >63.258%</td>\n",
       "      <td id=\"T_1fac2_row2_col2\" class=\"data row2 col2\" >69.880%</td>\n",
       "      <td id=\"T_1fac2_row2_col3\" class=\"data row2 col3\" >52.041%</td>\n",
       "      <td id=\"T_1fac2_row2_col4\" class=\"data row2 col4\" >71.166%</td>\n",
       "      <td id=\"T_1fac2_row2_col5\" class=\"data row2 col5\" >50.495%</td>\n",
       "      <td id=\"T_1fac2_row2_col6\" class=\"data row2 col6\" >70.517%</td>\n",
       "      <td id=\"T_1fac2_row2_col7\" class=\"data row2 col7\" >51.256%</td>\n",
       "      <td id=\"T_1fac2_row2_col8\" class=\"data row2 col8\" >60.830%</td>\n",
       "    </tr>\n",
       "    <tr>\n",
       "      <th id=\"T_1fac2_level0_row3\" class=\"row_heading level0 row3\" >3</th>\n",
       "      <td id=\"T_1fac2_row3_col0\" class=\"data row3 col0\" >NB</td>\n",
       "      <td id=\"T_1fac2_row3_col1\" class=\"data row3 col1\" >78.788%</td>\n",
       "      <td id=\"T_1fac2_row3_col2\" class=\"data row3 col2\" >99.083%</td>\n",
       "      <td id=\"T_1fac2_row3_col3\" class=\"data row3 col3\" >64.516%</td>\n",
       "      <td id=\"T_1fac2_row3_col4\" class=\"data row3 col4\" >66.258%</td>\n",
       "      <td id=\"T_1fac2_row3_col5\" class=\"data row3 col5\" >99.010%</td>\n",
       "      <td id=\"T_1fac2_row3_col6\" class=\"data row3 col6\" >79.412%</td>\n",
       "      <td id=\"T_1fac2_row3_col7\" class=\"data row3 col7\" >78.125%</td>\n",
       "      <td id=\"T_1fac2_row3_col8\" class=\"data row3 col8\" >82.634%</td>\n",
       "    </tr>\n",
       "    <tr>\n",
       "      <th id=\"T_1fac2_level0_row4\" class=\"row_heading level0 row4\" >4</th>\n",
       "      <td id=\"T_1fac2_row4_col0\" class=\"data row4 col0\" >Decision Tree</td>\n",
       "      <td id=\"T_1fac2_row4_col1\" class=\"data row4 col1\" >97.727%</td>\n",
       "      <td id=\"T_1fac2_row4_col2\" class=\"data row4 col2\" >98.160%</td>\n",
       "      <td id=\"T_1fac2_row4_col3\" class=\"data row4 col3\" >97.030%</td>\n",
       "      <td id=\"T_1fac2_row4_col4\" class=\"data row4 col4\" >98.160%</td>\n",
       "      <td id=\"T_1fac2_row4_col5\" class=\"data row4 col5\" >97.030%</td>\n",
       "      <td id=\"T_1fac2_row4_col6\" class=\"data row4 col6\" >98.160%</td>\n",
       "      <td id=\"T_1fac2_row4_col7\" class=\"data row4 col7\" >97.030%</td>\n",
       "      <td id=\"T_1fac2_row4_col8\" class=\"data row4 col8\" >97.595%</td>\n",
       "    </tr>\n",
       "    <tr>\n",
       "      <th id=\"T_1fac2_level0_row5\" class=\"row_heading level0 row5\" >5</th>\n",
       "      <td id=\"T_1fac2_row5_col0\" class=\"data row5 col0\" >Random Forest</td>\n",
       "      <td id=\"T_1fac2_row5_col1\" class=\"data row5 col1\" >97.727%</td>\n",
       "      <td id=\"T_1fac2_row5_col2\" class=\"data row5 col2\" >98.160%</td>\n",
       "      <td id=\"T_1fac2_row5_col3\" class=\"data row5 col3\" >97.030%</td>\n",
       "      <td id=\"T_1fac2_row5_col4\" class=\"data row5 col4\" >98.160%</td>\n",
       "      <td id=\"T_1fac2_row5_col5\" class=\"data row5 col5\" >97.030%</td>\n",
       "      <td id=\"T_1fac2_row5_col6\" class=\"data row5 col6\" >98.160%</td>\n",
       "      <td id=\"T_1fac2_row5_col7\" class=\"data row5 col7\" >97.030%</td>\n",
       "      <td id=\"T_1fac2_row5_col8\" class=\"data row5 col8\" >97.595%</td>\n",
       "    </tr>\n",
       "    <tr>\n",
       "      <th id=\"T_1fac2_level0_row6\" class=\"row_heading level0 row6\" >6</th>\n",
       "      <td id=\"T_1fac2_row6_col0\" class=\"data row6 col0\" >MLP</td>\n",
       "      <td id=\"T_1fac2_row6_col1\" class=\"data row6 col1\" >91.288%</td>\n",
       "      <td id=\"T_1fac2_row6_col2\" class=\"data row6 col2\" >93.210%</td>\n",
       "      <td id=\"T_1fac2_row6_col3\" class=\"data row6 col3\" >88.235%</td>\n",
       "      <td id=\"T_1fac2_row6_col4\" class=\"data row6 col4\" >92.638%</td>\n",
       "      <td id=\"T_1fac2_row6_col5\" class=\"data row6 col5\" >89.109%</td>\n",
       "      <td id=\"T_1fac2_row6_col6\" class=\"data row6 col6\" >92.923%</td>\n",
       "      <td id=\"T_1fac2_row6_col7\" class=\"data row6 col7\" >88.670%</td>\n",
       "      <td id=\"T_1fac2_row6_col8\" class=\"data row6 col8\" >90.873%</td>\n",
       "    </tr>\n",
       "  </tbody>\n",
       "</table>\n"
      ],
      "text/plain": [
       "<pandas.io.formats.style.Styler at 0x12ad7228f70>"
      ]
     },
     "execution_count": 22,
     "metadata": {},
     "output_type": "execute_result"
    }
   ],
   "source": [
    "test_evaluation = evaluation_table(trained_model_dict, X_test, y_test)\n",
    "test_evaluation.data.to_csv('evaluation/test_evaluation.csv', index=False, encoding='utf-8')\n",
    "test_evaluation"
   ]
  },
  {
   "cell_type": "markdown",
   "id": "9c3cb055",
   "metadata": {},
   "source": [
    "## Test the system"
   ]
  },
  {
   "cell_type": "code",
   "execution_count": 23,
   "id": "9679f659",
   "metadata": {},
   "outputs": [
    {
     "name": "stdout",
     "output_type": "stream",
     "text": [
      "Model loaded from model/mlp.pkl\n"
     ]
    }
   ],
   "source": [
    "mlp_model = save_or_load_model(mlp_cls, \"model/mlp.pkl\", action='load')"
   ]
  },
  {
   "cell_type": "code",
   "execution_count": 24,
   "id": "7dcb7d27",
   "metadata": {},
   "outputs": [
    {
     "name": "stdout",
     "output_type": "stream",
     "text": [
      "DataPreprocessor object loaded from data_preprocessing/preprocessing_1.joblib\n"
     ]
    }
   ],
   "source": [
    "preprocessor.load(\"data_preprocessing/preprocessing_1.joblib\")"
   ]
  },
  {
   "cell_type": "code",
   "execution_count": 25,
   "id": "8edbb993",
   "metadata": {},
   "outputs": [
    {
     "data": {
      "text/html": [
       "<div>\n",
       "<style scoped>\n",
       "    .dataframe tbody tr th:only-of-type {\n",
       "        vertical-align: middle;\n",
       "    }\n",
       "\n",
       "    .dataframe tbody tr th {\n",
       "        vertical-align: top;\n",
       "    }\n",
       "\n",
       "    .dataframe thead th {\n",
       "        text-align: right;\n",
       "    }\n",
       "</style>\n",
       "<table border=\"1\" class=\"dataframe\">\n",
       "  <thead>\n",
       "    <tr style=\"text-align: right;\">\n",
       "      <th></th>\n",
       "      <th>Age</th>\n",
       "      <th>Gender</th>\n",
       "      <th>Heart rate</th>\n",
       "      <th>Systolic blood pressure</th>\n",
       "      <th>Diastolic blood pressure</th>\n",
       "      <th>Blood sugar</th>\n",
       "      <th>CK-MB</th>\n",
       "      <th>Troponin</th>\n",
       "    </tr>\n",
       "  </thead>\n",
       "  <tbody>\n",
       "    <tr>\n",
       "      <th>0</th>\n",
       "      <td>12</td>\n",
       "      <td>1</td>\n",
       "      <td>80</td>\n",
       "      <td>120</td>\n",
       "      <td>60</td>\n",
       "      <td>100</td>\n",
       "      <td>3.1</td>\n",
       "      <td>1</td>\n",
       "    </tr>\n",
       "  </tbody>\n",
       "</table>\n",
       "</div>"
      ],
      "text/plain": [
       "   Age  Gender  Heart rate  Systolic blood pressure  Diastolic blood pressure  \\\n",
       "0   12       1          80                      120                        60   \n",
       "\n",
       "   Blood sugar  CK-MB  Troponin  \n",
       "0          100    3.1         1  "
      ]
     },
     "execution_count": 25,
     "metadata": {},
     "output_type": "execute_result"
    }
   ],
   "source": [
    "record = {\n",
    "    'Age': 12,\n",
    "    \"Gender\": 1,\n",
    "    'Heart rate': 80,\n",
    "    'Systolic blood pressure': 120,\n",
    "    \"Diastolic blood pressure\": 60,\n",
    "    \"Blood sugar\": 100,\n",
    "    \"CK-MB\": 3.1,\n",
    "    \"Troponin\": 1\n",
    "}\n",
    "\n",
    "record = pd.DataFrame([record])\n",
    "record"
   ]
  },
  {
   "cell_type": "code",
   "execution_count": 26,
   "id": "6289766b",
   "metadata": {},
   "outputs": [
    {
     "data": {
      "text/html": [
       "<div>\n",
       "<style scoped>\n",
       "    .dataframe tbody tr th:only-of-type {\n",
       "        vertical-align: middle;\n",
       "    }\n",
       "\n",
       "    .dataframe tbody tr th {\n",
       "        vertical-align: top;\n",
       "    }\n",
       "\n",
       "    .dataframe thead th {\n",
       "        text-align: right;\n",
       "    }\n",
       "</style>\n",
       "<table border=\"1\" class=\"dataframe\">\n",
       "  <thead>\n",
       "    <tr style=\"text-align: right;\">\n",
       "      <th></th>\n",
       "      <th>0</th>\n",
       "      <th>1</th>\n",
       "      <th>2</th>\n",
       "      <th>3</th>\n",
       "      <th>4</th>\n",
       "      <th>5</th>\n",
       "      <th>6</th>\n",
       "      <th>Gender</th>\n",
       "    </tr>\n",
       "  </thead>\n",
       "  <tbody>\n",
       "    <tr>\n",
       "      <th>0</th>\n",
       "      <td>-3.23936</td>\n",
       "      <td>0.032229</td>\n",
       "      <td>-0.2746</td>\n",
       "      <td>-0.874581</td>\n",
       "      <td>-0.622666</td>\n",
       "      <td>0.553714</td>\n",
       "      <td>-0.26289</td>\n",
       "      <td>1</td>\n",
       "    </tr>\n",
       "  </tbody>\n",
       "</table>\n",
       "</div>"
      ],
      "text/plain": [
       "         0         1       2         3         4         5        6  Gender\n",
       "0 -3.23936  0.032229 -0.2746 -0.874581 -0.622666  0.553714 -0.26289       1"
      ]
     },
     "execution_count": 26,
     "metadata": {},
     "output_type": "execute_result"
    }
   ],
   "source": [
    "preprocessed_data = pd.DataFrame(preprocessor.transform(record))\n",
    "preprocessed_data.columns = preprocessed_data.columns.astype(str)\n",
    "preprocessed_data[\"Gender\"] = 1\n",
    "preprocessed_data"
   ]
  },
  {
   "cell_type": "code",
   "execution_count": 27,
   "id": "804efd4e",
   "metadata": {},
   "outputs": [
    {
     "data": {
      "text/plain": [
       "array([1])"
      ]
     },
     "execution_count": 27,
     "metadata": {},
     "output_type": "execute_result"
    }
   ],
   "source": [
    "re = mlp_model.predict(preprocessed_data)\n",
    "re"
   ]
  },
  {
   "cell_type": "code",
   "execution_count": null,
   "id": "2b48b3f8",
   "metadata": {},
   "outputs": [],
   "source": []
  }
 ],
 "metadata": {
  "kernelspec": {
   "display_name": "Python 3 (ipykernel)",
   "language": "python",
   "name": "python3"
  },
  "language_info": {
   "codemirror_mode": {
    "name": "ipython",
    "version": 3
   },
   "file_extension": ".py",
   "mimetype": "text/x-python",
   "name": "python",
   "nbconvert_exporter": "python",
   "pygments_lexer": "ipython3",
   "version": "3.10.13"
  }
 },
 "nbformat": 4,
 "nbformat_minor": 5
}
